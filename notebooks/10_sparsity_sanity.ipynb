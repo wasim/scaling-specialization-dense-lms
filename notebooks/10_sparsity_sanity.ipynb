{
 "cells": [
  {
   "cell_type": "markdown",
   "metadata": {},
   "source": [
    "# Sparsity sanity check\n",
    "\n",
    "Load the CSV emitted by `uv run sparsity` and plot layer-wise activation sparsity."
   ]
  },
  {
   "cell_type": "code",
   "execution_count": null,
   "metadata": {},
   "outputs": [],
   "source": [
    "from pathlib import Path\n",
    "\n",
    "import pandas as pd\n",
    "\n",
    "ARTIFACT_DIR = Path('artifacts/sparsity')\n",
    "latest_csv = sorted(ARTIFACT_DIR.glob('*_sparsity.csv'))[-1]\n",
    "df = pd.read_csv(latest_csv)\n",
    "df.head()"
   ]
  },
  {
   "cell_type": "code",
   "execution_count": null,
   "metadata": {},
   "outputs": [],
   "source": [
    "import plotly.express as px\n",
    "\n",
    "fig = px.bar(df, x='layer', y='frac', hover_data=['pr'], title='Activation sparsity by layer')\n",
    "fig"
   ]
  }
 ],
 "metadata": {
  "kernelspec": {
   "display_name": "Python 3",
   "language": "python",
   "name": "python3"
  },
  "language_info": {
   "name": "python",
   "version": "3.13"
  }
 },
 "nbformat": 4,
 "nbformat_minor": 5
}